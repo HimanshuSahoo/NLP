{
  "nbformat": 4,
  "nbformat_minor": 5,
  "metadata": {
    "kernelspec": {
      "display_name": "Python 3",
      "language": "python",
      "name": "python3"
    },
    "language_info": {
      "codemirror_mode": {
        "name": "ipython",
        "version": 3
      },
      "file_extension": ".py",
      "mimetype": "text/x-python",
      "name": "python",
      "nbconvert_exporter": "python",
      "pygments_lexer": "ipython3",
      "version": "3.8.8"
    },
    "toc": {
      "base_numbering": 1,
      "nav_menu": {},
      "number_sections": true,
      "sideBar": true,
      "skip_h1_title": false,
      "title_cell": "Table of Contents",
      "title_sidebar": "Contents",
      "toc_cell": false,
      "toc_position": {},
      "toc_section_display": true,
      "toc_window_display": false
    },
    "varInspector": {
      "cols": {
        "lenName": 16,
        "lenType": 16,
        "lenVar": 40
      },
      "kernels_config": {
        "python": {
          "delete_cmd_postfix": "",
          "delete_cmd_prefix": "del ",
          "library": "var_list.py",
          "varRefreshCmd": "print(var_dic_list())"
        },
        "r": {
          "delete_cmd_postfix": ") ",
          "delete_cmd_prefix": "rm(",
          "library": "var_list.r",
          "varRefreshCmd": "cat(var_dic_list()) "
        }
      },
      "types_to_exclude": [
        "module",
        "function",
        "builtin_function_or_method",
        "instance",
        "_Feature"
      ],
      "window_display": false
    },
    "colab": {
      "name": "2. Stemming.ipynb",
      "provenance": [],
      "include_colab_link": true
    }
  },
  "cells": [
    {
      "cell_type": "markdown",
      "metadata": {
        "id": "view-in-github",
        "colab_type": "text"
      },
      "source": [
        "<a href=\"https://colab.research.google.com/github/HimanshuSahoo/NLP/blob/main/2_Stemming.ipynb\" target=\"_parent\"><img src=\"https://colab.research.google.com/assets/colab-badge.svg\" alt=\"Open In Colab\"/></a>"
      ]
    },
    {
      "cell_type": "code",
      "metadata": {
        "id": "4b09d88c"
      },
      "source": [
        "import nltk\n",
        "from nltk.stem import PorterStemmer\n",
        "from nltk.corpus import stopwords"
      ],
      "id": "4b09d88c",
      "execution_count": null,
      "outputs": []
    },
    {
      "cell_type": "code",
      "metadata": {
        "id": "f4e74e10"
      },
      "source": [
        "\n",
        "paragraph = \"\"\"I have three visions for India. In 3000 years of our history, people from all over \n",
        "               the world have come and invaded us, captured our lands, conquered our minds. \n",
        "               From Alexander onwards, the Greeks, the Turks, the Moguls, the Portuguese, the British,\n",
        "               the French, the Dutch, all of them came and looted us, took over what was ours. \n",
        "               Yet we have not done this to any other nation. We have not conquered anyone. \n",
        "               We have not grabbed their land, their culture, \n",
        "               their history and tried to enforce our way of life on them. \n",
        "               Why? Because we respect the freedom of others.That is why my \n",
        "               first vision is that of freedom. I believe that India got its first vision of \n",
        "               this in 1857, when we started the War of Independence. It is this freedom that\n",
        "               we must protect and nurture and build on. If we are not free, no one will respect us.\n",
        "               My second vision for India’s development. For fifty years we have been a developing nation.\n",
        "               It is time we see ourselves as a developed nation. We are among the top 5 nations of the world\n",
        "               in terms of GDP. We have a 10 percent growth rate in most areas. Our poverty levels are falling.\n",
        "               Our achievements are being globally recognised today. Yet we lack the self-confidence to\n",
        "               see ourselves as a developed nation, self-reliant and self-assured. Isn’t this incorrect?\n",
        "               I have a third vision. India must stand up to the world. Because I believe that unless India \n",
        "               stands up to the world, no one will respect us. Only strength respects strength. We must be \n",
        "               strong not only as a military power but also as an economic power. Both must go hand-in-hand. \n",
        "               My good fortune was to have worked with three great minds. Dr. Vikram Sarabhai of the Dept. of \n",
        "               space, Professor Satish Dhawan, who succeeded him and Dr. Brahm Prakash, father of nuclear material.\n",
        "               I was lucky to have worked with all three of them closely and consider this the great opportunity of my life. \n",
        "               I see four milestones in my career\"\"\"\n",
        "               \n",
        "               \n"
      ],
      "id": "f4e74e10",
      "execution_count": null,
      "outputs": []
    },
    {
      "cell_type": "code",
      "metadata": {
        "id": "a112fe25"
      },
      "source": [
        "sentences = nltk.sent_tokenize(paragraph)\n",
        "stemmer = PorterStemmer()\n",
        "\n"
      ],
      "id": "a112fe25",
      "execution_count": null,
      "outputs": []
    },
    {
      "cell_type": "code",
      "metadata": {
        "id": "42f7e943"
      },
      "source": [
        "# Stemming\n",
        "for i in range(len(sentences)):\n",
        "    words = nltk.word_tokenize(sentences[i])\n",
        "    words = [stemmer.stem(word) for word in words if word not in set(stopwords.words('english'))]\n",
        "    sentences[i] = ' '.join(words)  "
      ],
      "id": "42f7e943",
      "execution_count": null,
      "outputs": []
    },
    {
      "cell_type": "code",
      "metadata": {
        "id": "698f53d9",
        "outputId": "243f93b4-7b42-44cb-8547-7119da63c81b"
      },
      "source": [
        "sentences"
      ],
      "id": "698f53d9",
      "execution_count": null,
      "outputs": [
        {
          "data": {
            "text/plain": [
              "['threevisionindia.',\n",
              " '3000yearhistori,peoplworldcomeinvadus,capturland,conquermind.',\n",
              " 'alexandonward,greek,turk,mogul,portugu,british,french,dutch,camelootus,took.',\n",
              " 'yetdonenation.',\n",
              " 'conqueranyon.',\n",
              " 'grabland,cultur,historitrienforcwaylife.',\n",
              " 'whi?',\n",
              " 'becaurespectfreedomothers.thatfirstvisionfreedom.',\n",
              " 'believindiagotfirstvision1857,startwarindepend.',\n",
              " 'freedommustprotectnurturbuild.',\n",
              " 'free,onerespectus.',\n",
              " 'secondvisionindia’develop.',\n",
              " 'fiftiyeardevelopnation.',\n",
              " 'timeseedevelopnation.',\n",
              " 'amongtop5nationworldtermgdp.',\n",
              " '10percentgrowthratearea.',\n",
              " 'povertilevelfall.',\n",
              " 'achievglobalrecognitoday.',\n",
              " 'yetlackself-confidseedevelopnation,self-rself-assur.',\n",
              " '’incorrect?',\n",
              " 'thirdvision.',\n",
              " 'indiamuststandworld.',\n",
              " 'becaubelievunlessindiastandworld,onerespectus.',\n",
              " 'onlistrengthrespectstrength.',\n",
              " 'muststrongmilitaripoweralsoeconompower.',\n",
              " 'mustgohand-in-hand.',\n",
              " 'goodfortunworkthreegreatmind.',\n",
              " 'dr.vikramsarabhaidept.',\n",
              " 'space,professorsatishdhawan,succeeddr.brahmprakash,fathernuclearmateri.',\n",
              " 'luckiworkthreecloseconsidgreatopportunlife.',\n",
              " 'seefourmilestoncareer']"
            ]
          },
          "execution_count": 13,
          "metadata": {},
          "output_type": "execute_result"
        }
      ]
    },
    {
      "cell_type": "code",
      "metadata": {
        "id": "a6cede83"
      },
      "source": [
        ""
      ],
      "id": "a6cede83",
      "execution_count": null,
      "outputs": []
    }
  ]
}